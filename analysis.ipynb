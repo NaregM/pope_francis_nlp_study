{
 "cells": [
  {
   "cell_type": "code",
   "execution_count": 1,
   "metadata": {},
   "outputs": [],
   "source": [
    "import numpy as np\n",
    "import pandas as pd\n",
    "import matplotlib.pyplot as plt\n",
    "\n",
    "import json\n",
    "import json\n",
    "from pathlib import Path\n",
    "from typing import List, Optional\n",
    "\n",
    "from pydantic import BaseModel, HttpUrl\n",
    "from models import Speech\n",
    "from helpers import load_all_speeches_json\n",
    "\n",
    "%matplotlib inline"
   ]
  },
  {
   "cell_type": "code",
   "execution_count": 4,
   "metadata": {},
   "outputs": [],
   "source": [
    "speeches = load_all_speeches_json(\"data/\")"
   ]
  },
  {
   "cell_type": "code",
   "execution_count": 10,
   "metadata": {},
   "outputs": [
    {
     "name": "stdout",
     "output_type": "stream",
     "text": [
      "https://www.vatican.va/content/francesco/en/speeches/2015/april/documents/papa-francesco_20150416_ad-limina-kenya.html\n",
      "Thursday, 16 April 2015\n",
      "ADDRESS OF HIS HOLINESS POPE FRANCIS TO THE BISHOPS OF THE EPISCOPAL CONFERENCE ON THEIR \"AD LIMINA\" VISIT\n",
      "ADDRESS OF HIS HOLINESS POPE FRANCIS TO THE BISHOPS OF THE EPISCOPAL CONFERENCE ON THEIR \"AD LIMINA\" VISIT\n",
      "\n",
      "Thursday, 16 April 2015\n",
      "\n",
      "Dear Brother Bishops,\n",
      "\n",
      "I offer you my fraternal welcome on the occasion of your visit ad Limina Apostolorum as you make your pilgrimage to the tombs of Blessed Peter and Paul. Your time in the Eternal City and your visits to the offices of the Roman Curia provide numerous opportunities to deepen communion between the Church in Kenya and the See of Peter. I thank Cardinal Njue for his warm words on your behalf and in the name of the priests, men and women religious, and all the lay faithful of Kenya. I ask you kindly to assure them of my prayers and spiritual closeness.\n",
      "\n",
      "For some of you, this visit to Rome will bring to mind your time spent here preparing for ordination to the priesthood. The many seminarians studying in this City, like the numerous seminarians in your own country, are an eloquent sign of God’s goodness to the universal Church and to your Dioceses. They remind us of the great resource you have in the many youth of your local Churches, as well as your paternal care in helping young men answer the call to the priesthood. I think in a special way of the zeal, hope and dedication of seminarians who wish to give everything to Christ through service to the Church. While the seeds of a priestly vocation are sown long before a man arrives at the seminary, first in the heart of the family, it pertains to seminary formators to nurture the growth of these vocations. For this reason, it is imperative that seminarians’ goodwill and earnest desires be met with a formation that is humanly sound, spiritually deep, intellectually rich, and pastorally diverse (cf. Pastores Dabo Vobis , 43-59). I am aware of the challenges which this entails, and I encourage you to strengthen your efforts, individually within your Dioceses and collectively in your Episcopal Conference, so that the good work which the Lord is accomplishing in your candidates for priestly Orders will be brought to completion (cf. Phil 1:6).\n",
      "\n",
      "In the exercise of your episcopal office, each of you is called to be a pastor of souls (cf. Christus Dominus , 1), a father and a shepherd (ibid., 16). This will be accomplished primarily with your closest collaborators, your priests. They need you to guide them with clarity and strength, but also, and especially, with compassion and tenderness. As Bishops, we must always look to the example of Jesus, who tended personally to the Apostles, spent time with them and enjoyed their company. You also must strive to be with your priests, to know them and listen to them. Your support will help them to be faithful to the promises they have made and strengthen your common efforts to build up God’s kingdom in Kenya.\n",
      "\n",
      "In this Year of Consecrated Life, my heart is also close to the men and women religious who have renounced the world for the sake of the kingdom thus bringing many blessings to the Church and society in Kenya. I ask you, dear brother Bishops, to convey to them my gratitude, affection and prayerful closeness, and to express my hope that during this year dedicated to consecrated life, they may be joyful and brave as they point to Christ by their lives. I encourage you to deepen the bonds of charity and ecclesial communion that you have with the religious Institutes in Kenya. The Church’s mission, though multifaceted, is one: much more will be accomplished for the praise and glory of God’s name when our actions are in harmony.\n",
      "\n",
      "The united and selfless efforts of many Catholics in Kenya are a beautiful witness and example for the country. In so many ways, the Church is called to offer hope to the broader culture, a hope based on her unstinting witness to the newness of life promised by Christ in the Gospel. In this regard, without wishing to interfere in temporal affairs, the Church must insist, especially to those who are in positions of leadership and power, on those moral principles which promote the common good and the upbuilding of society as a whole. In the fulfilment of her apostolic mission, the Church must take a prophetic stand in defence of the poor and against all corruption and abuse of power. She must do so, in the first place, by example. Do not be afraid to be a prophetic voice! Do not be afraid to preach with conviction! Bring the wisdom of the Church, enshrined particularly in her social teaching, to bear on Kenyan society.\n",
      "\n",
      "In a particular way, I wish to offer a word of appreciation to the many humble and dedicated workers in Church-run institutions throughout your country, whose daily activities bring spiritual and material benefit to countless people. The Church has contributed, and continues to contribute, to all of Kenya through a diverse array of schools, institutes, universities, clinics, hospitals, homes for the sick and dying, orphanages and social agencies. Through these, dedicated priests, religious men and women, and laity make a vital contribution to the welfare of the entire nation. Such praiseworthy works are continually sustained by the life of prayer and worship experienced in so many parishes, convents, monasteries and lay movements. May this hymn of praise and the fruits of your apostolic works continue to grow!\n",
      "\n",
      "Dear brothers, the Church in Kenya must always be true to her mission as an instrument of reconciliation, justice and peace. In fidelity to the entire patrimony of the faith and moral teaching of the Church, may you strengthen your commitment to working with Christian and non-Christian leaders alike, in promoting peace and justice in your country through dialogue, fraternity and friendship. In this way you will be able to offer a more unified and courageous denunciation of all violence, especially that committed in the name of God. This will bring deeper reassurance and solace to all your fellow citizens. With you, I pray for all those who have been killed by acts of terror or ethnic or tribal hostilities in Kenya as well as other areas of the continent. I think most especially of the men and women killed at Garissa University College on Good Friday. May their souls rest in peace and their loved ones be consoled, and may those who commit such brutality come to their senses and seek mercy.\n",
      "\n",
      "I wish to offer you a word of encouragement in your pastoral care to the family. As the Church prepares for the Ordinary Synod dedicated to “the vocation and mission of the family in the Church and contemporary world”, I am confident that you will continue to assist and strengthen all those families who are struggling because of broken marriages, infidelity, addiction or violence. I ask you likewise to intensify the Church’s ministry to youth, forming them to be disciples capable of making permanent and life-giving commitments – whether to a spouse in marriage, or to the Lord in the priesthood or religious life. Teach the saving truth of the Gospel of Life to all. May the beauty, truth and light of the Gospel shine forth ever more radiantly from the youthful and joyful face of the Kenyan Church.\n",
      "\n",
      "Finally, with you I pray that the forthcoming Jubilee of Mercy will be a time of great forgiveness, healing, conversion, and grace for the entire Church in Kenya. Touched by Christ’s infinite mercy, may all the faithful be signs of the reconciliation, justice and peace that God wills for your country, and indeed, all of Africa.\n",
      "\n",
      "With these thoughts, dear brother Bishops, I commend all of you to the intercession of Mary, Mother of the Church, and with great affection I impart my Apostolic Blessing, which I willingly extend to all the beloved priests, religious and lay faithful of Kenya.\n"
     ]
    }
   ],
   "source": [
    "print(speeches[0].url)\n",
    "print(speeches[0].metadata)\n",
    "print(speeches[0].title)\n",
    "print(speeches[0].text_body)"
   ]
  },
  {
   "cell_type": "code",
   "execution_count": null,
   "metadata": {},
   "outputs": [],
   "source": []
  },
  {
   "cell_type": "code",
   "execution_count": null,
   "metadata": {},
   "outputs": [],
   "source": []
  },
  {
   "cell_type": "code",
   "execution_count": null,
   "metadata": {},
   "outputs": [],
   "source": []
  },
  {
   "cell_type": "code",
   "execution_count": null,
   "metadata": {},
   "outputs": [],
   "source": []
  }
 ],
 "metadata": {
  "kernelspec": {
   "display_name": "bertopic",
   "language": "python",
   "name": "python3"
  },
  "language_info": {
   "codemirror_mode": {
    "name": "ipython",
    "version": 3
   },
   "file_extension": ".py",
   "mimetype": "text/x-python",
   "name": "python",
   "nbconvert_exporter": "python",
   "pygments_lexer": "ipython3",
   "version": "3.10.16"
  }
 },
 "nbformat": 4,
 "nbformat_minor": 2
}
